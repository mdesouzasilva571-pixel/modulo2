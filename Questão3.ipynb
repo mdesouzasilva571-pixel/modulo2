{
  "cells": [
    {
      "cell_type": "markdown",
      "metadata": {
        "id": "view-in-github",
        "colab_type": "text"
      },
      "source": [
        "<a href=\"https://colab.research.google.com/github/mdesouzasilva571-pixel/modulo2/blob/main/Quest%C3%A3o3.ipynb\" target=\"_parent\"><img src=\"https://colab.research.google.com/assets/colab-badge.svg\" alt=\"Open In Colab\"/></a>"
      ]
    },
    {
      "cell_type": "code",
      "source": [
        "class Funcionario:\n",
        "    def __init__(self, nome,  salario):\n",
        "        self.nome = nome\n",
        "        self.salario = salario\n",
        "\n",
        "    def nome_funcionario(self):\n",
        "        return self.nome\n",
        "\n",
        "    def salario_funcionario(self):\n",
        "        return self.salario\n",
        "\n",
        "    def exibir_dados(self):\n",
        "        print(f\"Nome: {self.nome}\")\n",
        "        print(f\"Salário: {self.salario}\")\n",
        "\n",
        "\n",
        "class Gerente(Funcionario):\n",
        "    def __init__(self, nome, salario, departamento):\n",
        "        super().__init__(nome, salario)\n",
        "        self.departamento = departamento\n",
        "\n",
        "    def exibir_dados(self):\n",
        "        super().exibir_dados()  # Exibe nome e salário da classe base\n",
        "        print(f\"Departamento: {self.departamento}\")\n",
        "\n",
        "\n",
        "# Exemplo de uso\n",
        "gerente1 = Gerente(\"Ana Souza\", 8500.00, \"Recursos Humanos\")\n",
        "gerente1.exibir_dados()"
      ],
      "metadata": {
        "id": "yFXWWh-Ihr45",
        "colab": {
          "base_uri": "https://localhost:8080/"
        },
        "outputId": "8ae98a3d-f288-4b00-9521-d0e48a1ab9a6"
      },
      "execution_count": 3,
      "outputs": [
        {
          "output_type": "stream",
          "name": "stdout",
          "text": [
            "Nome: Ana Souza\n",
            "Salário: 8500.0\n",
            "Departamento: Recursos Humanos\n"
          ]
        }
      ]
    }
  ],
  "metadata": {
    "colab": {
      "provenance": [],
      "include_colab_link": true
    },
    "kernelspec": {
      "display_name": "Python 3",
      "name": "python3"
    }
  },
  "nbformat": 4,
  "nbformat_minor": 0
}