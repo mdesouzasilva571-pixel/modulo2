{
  "cells": [
    {
      "cell_type": "markdown",
      "metadata": {
        "id": "view-in-github",
        "colab_type": "text"
      },
      "source": [
        "<a href=\"https://colab.research.google.com/github/mdesouzasilva571-pixel/modulo2/blob/main/Quest%C3%A3o2.ipynb\" target=\"_parent\"><img src=\"https://colab.research.google.com/assets/colab-badge.svg\" alt=\"Open In Colab\"/></a>"
      ]
    },
    {
      "cell_type": "code",
      "source": [
        "from abc import ABC, abstractmethod\n",
        "class FormaGeometrica(ABC):\n",
        "  @abstractmethod\n",
        "  def calcular_area(self):\n",
        "    pass\n",
        "class Retangulo(FormaGeometrica):\n",
        "  def __init__(self, largura, altura):\n",
        "    self.largura = largura\n",
        "    self.altura = altura\n",
        "  def calcular_area(self):\n",
        "    return self.largura * self.altura\n",
        "\n",
        "  retangulo=Retangulo(5,4)\n",
        "  print(retangulo.calcular_area())"
      ],
      "metadata": {
        "colab": {
          "base_uri": "https://localhost:8080/"
        },
        "id": "YZT-XTApgdQ6",
        "outputId": "a0e7ba2d-12a4-4044-f12f-2a0b3dfa9130"
      },
      "execution_count": 9,
      "outputs": [
        {
          "output_type": "stream",
          "name": "stdout",
          "text": [
            "20\n"
          ]
        }
      ]
    }
  ],
  "metadata": {
    "colab": {
      "name": "Welcome To Colab",
      "provenance": [],
      "include_colab_link": true
    },
    "kernelspec": {
      "display_name": "Python 3",
      "name": "python3"
    }
  },
  "nbformat": 4,
  "nbformat_minor": 0
}