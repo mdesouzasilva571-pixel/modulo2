{
  "cells": [
    {
      "cell_type": "markdown",
      "metadata": {
        "id": "view-in-github",
        "colab_type": "text"
      },
      "source": [
        "<a href=\"https://colab.research.google.com/github/mdesouzasilva571-pixel/modulo2/blob/main/Quest%C3%A3o4.ipynb\" target=\"_parent\"><img src=\"https://colab.research.google.com/assets/colab-badge.svg\" alt=\"Open In Colab\"/></a>"
      ]
    },
    {
      "cell_type": "code",
      "source": [
        "from abc import ABC, abstractmethod\n",
        "\n",
        "# Classe abstrata Veiculo\n",
        "class Veiculo(ABC):\n",
        "\n",
        "    @abstractmethod\n",
        "    def acelerar(self):\n",
        "        pass\n",
        "\n",
        "    @property\n",
        "    @abstractmethod\n",
        "    def rodas(self):\n",
        "        pass\n",
        "\n",
        "# Classe Carro, filha de Veiculo\n",
        "class Carro(Veiculo):\n",
        "    def acelerar(self):\n",
        "        print(\"O carro está acelerando suavemente na estrada!\")\n",
        "\n",
        "    @property\n",
        "    def rodas(self):\n",
        "        return 4\n",
        "\n",
        "# Classe Moto, filha de Veiculo\n",
        "class Moto(Veiculo):\n",
        "    def acelerar(self):\n",
        "        print(\"A moto acelera rapidamente com um ronco alto!\")\n",
        "\n",
        "    @property\n",
        "    def rodas(self):\n",
        "        return 2\n",
        "\n",
        "# Exemplo de uso\n",
        "carro = Carro()\n",
        "moto = Moto()\n",
        "\n",
        "print(f\"Carro tem {carro.rodas} rodas.\")\n",
        "carro.acelerar()\n",
        "\n",
        "print(f\"Moto tem {moto.rodas} rodas.\")\n",
        "moto.acelerar()\n"
      ],
      "metadata": {
        "colab": {
          "base_uri": "https://localhost:8080/"
        },
        "id": "MCcA5iiZF5wH",
        "outputId": "db80f5e4-b78a-4d13-bf40-b4f693948253"
      },
      "execution_count": 4,
      "outputs": [
        {
          "output_type": "stream",
          "name": "stdout",
          "text": [
            "Carro tem 4 rodas.\n",
            "O carro está acelerando suavemente na estrada!\n",
            "Moto tem 2 rodas.\n",
            "A moto acelera rapidamente com um ronco alto!\n"
          ]
        }
      ]
    }
  ],
  "metadata": {
    "colab": {
      "provenance": [],
      "include_colab_link": true
    },
    "kernelspec": {
      "display_name": "Python 3",
      "name": "python3"
    }
  },
  "nbformat": 4,
  "nbformat_minor": 0
}