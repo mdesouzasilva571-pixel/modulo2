{
  "cells": [
    {
      "cell_type": "markdown",
      "metadata": {
        "id": "view-in-github",
        "colab_type": "text"
      },
      "source": [
        "<a href=\"https://colab.research.google.com/github/mdesouzasilva571-pixel/modulo2/blob/main/Quest%C3%A3o%205.ipynb\" target=\"_parent\"><img src=\"https://colab.research.google.com/assets/colab-badge.svg\" alt=\"Open In Colab\"/></a>"
      ]
    },
    {
      "cell_type": "code",
      "source": [
        "class DispositivoEletronico:\n",
        "    def ligar(self):\n",
        "        print(\"Dispositivo Ligado\")\n",
        "\n",
        "    def desligar(self):\n",
        "        print(\"Dispositivo Desligado\")\n",
        "\n",
        "class Computador(DispositivoEletronico):\n",
        "    def instalar_software(self, software):\n",
        "        print(f\"Instalando Software: {software}\")\n",
        "\n",
        "class Notebook(Computador):\n",
        "    def verificar_bateria(self):\n",
        "        print(\"Verificando o nível da bateria...\")\n",
        "\n",
        "# Criando uma instância da classe Notebook\n",
        "notebook = Notebook()\n",
        "\n",
        "# Chamando os métodos de cada nível de herança\n",
        "notebook.ligar()               # Método da classe DispositivoEletronico\n",
        "notebook.desligar()            # Método da classe DispositivoEletronico\n",
        "notebook.instalar_software(\"Python\")  # Método da classe Computador\n",
        "notebook.verificar_bateria()   # Método da classe Notebook\n"
      ],
      "metadata": {
        "id": "u-cnCZNwmIZi",
        "outputId": "eed07edf-3f08-44c9-a3ee-4b20eabbf130",
        "colab": {
          "base_uri": "https://localhost:8080/"
        }
      },
      "execution_count": 5,
      "outputs": [
        {
          "output_type": "stream",
          "name": "stdout",
          "text": [
            "Dispositivo Ligado\n",
            "Dispositivo Desligado\n",
            "Instalando Software: Python\n",
            "Verificando o nível da bateria...\n"
          ]
        }
      ]
    },
    {
      "cell_type": "code",
      "source": [],
      "metadata": {
        "id": "6IWFAmyPjfJC"
      },
      "execution_count": null,
      "outputs": []
    }
  ],
  "metadata": {
    "colab": {
      "name": "Damos-lhe as boas-vindas ao Colab",
      "toc_visible": true,
      "provenance": [],
      "include_colab_link": true
    },
    "kernelspec": {
      "display_name": "Python 3",
      "name": "python3"
    }
  },
  "nbformat": 4,
  "nbformat_minor": 0
}