{
  "cells": [
    {
      "cell_type": "markdown",
      "metadata": {
        "id": "view-in-github",
        "colab_type": "text"
      },
      "source": [
        "<a href=\"https://colab.research.google.com/github/mdesouzasilva571-pixel/modulo2/blob/main/Quest%C3%A3o7.ipynb\" target=\"_parent\"><img src=\"https://colab.research.google.com/assets/colab-badge.svg\" alt=\"Open In Colab\"/></a>"
      ]
    },
    {
      "cell_type": "code",
      "source": [
        "from abc import ABC, abstractmethod\n",
        "\n",
        "class Percurso(ABC):\n",
        "    @abstractmethod\n",
        "    def tempo_estimado(self,distancia):\n",
        "        \"\"\"Calcula o tempo estimado do percurso com base na distância.\"\"\"\n",
        "        pass\n",
        "\n",
        "class Cobrança(ABC):\n",
        "    @abstractmethod\n",
        "    def calcular_tarifa(self,distancia):\n",
        "        \"\"\"Calcula a tarifa com base na distância.\"\"\"\n",
        "        pass\n",
        "\n",
        "class Taxi(Percurso,Cobrança):\n",
        "    def __init__(self, velocidade_media, tarifa_base, valor_km):\n",
        "        self.velocidade_media = velocidade_media\n",
        "        self.tarifa_base = tarifa_base\n",
        "        self.valor_km = valor_km\n",
        "\n",
        "    def tempo_estimado(self,distancia):\n",
        "        return distancia / self.velocidade_media\n",
        "\n",
        "    def calcular_tarifa(self, distancia):\n",
        "        \"\"\"Calcula o valor total da corrida.\"\"\"\n",
        "        valor = self.tarifa_base + (distancia * self.valor_km)\n",
        "        return round(valor, 2)\n",
        "\n",
        "if __name__ == \"__main__\":\n",
        "    taxi = Taxi(velocidade_media=60, tarifa_base=5.00, valor_km=2.50)\n",
        "\n",
        "    distancia = 20  # km\n",
        "    print(f\"Tempo estimado: {taxi.tempo_estimado(distancia):.2f} horas\")\n",
        "    print(f\"Tarifa estimada: R$ {taxi.calcular_tarifa(distancia):.2f}\")"
      ],
      "metadata": {
        "colab": {
          "base_uri": "https://localhost:8080/"
        },
        "id": "LvzKn_-Fn2I_",
        "outputId": "1d14eb31-7495-42da-8d84-2ab479394973"
      },
      "execution_count": 12,
      "outputs": [
        {
          "output_type": "stream",
          "name": "stdout",
          "text": [
            "Tempo estimado: 0.33 horas\n",
            "Tarifa estimada: R$ 55.00\n"
          ]
        }
      ]
    }
  ],
  "metadata": {
    "colab": {
      "name": "Damos-lhe as boas-vindas ao Colab",
      "toc_visible": true,
      "provenance": [],
      "include_colab_link": true
    },
    "kernelspec": {
      "display_name": "Python 3",
      "name": "python3"
    }
  },
  "nbformat": 4,
  "nbformat_minor": 0
}