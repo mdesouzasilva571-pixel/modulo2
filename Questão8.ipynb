{
  "cells": [
    {
      "cell_type": "markdown",
      "metadata": {
        "id": "view-in-github",
        "colab_type": "text"
      },
      "source": [
        "<a href=\"https://colab.research.google.com/github/mdesouzasilva571-pixel/modulo2/blob/main/Quest%C3%A3o8.ipynb\" target=\"_parent\"><img src=\"https://colab.research.google.com/assets/colab-badge.svg\" alt=\"Open In Colab\"/></a>"
      ]
    },
    {
      "cell_type": "code",
      "source": [
        "from abc import ABC, abstractmethod\n",
        "\n",
        "# 1. Classe abstrata Pessoa\n",
        "class Pessoa(ABC):\n",
        "    def __init__(self, id, nome):\n",
        "        self.id = id\n",
        "        self.nome = nome\n",
        "\n",
        "    @abstractmethod\n",
        "    def detalhes_de_cadastro(self):\n",
        "        \"\"\"Exibe os detalhes do cadastro da pessoa.\"\"\"\n",
        "        pass\n",
        "\n",
        "\n",
        "# 2. Classe concreta Cliente\n",
        "class Cliente(Pessoa):\n",
        "    def __init__(self, id, nome, data_cadastro):\n",
        "        super().__init__(id, nome)\n",
        "        self.data_cadastro = data_cadastro\n",
        "\n",
        "    def detalhes_de_cadastro(self):\n",
        "        print(f\"[CLIENTE] ID: {self.id} | Nome: {self.nome} | Data de Cadastro: {self.data_cadastro}\")\n",
        "\n",
        "\n",
        "# 3. Classe concreta Fornecedor\n",
        "class Fornecedor(Pessoa):\n",
        "    def __init__(self, id, nome, cnpj):\n",
        "        super().__init__(id, nome)\n",
        "        self.cnpj = cnpj\n",
        "\n",
        "    def detalhes_de_cadastro(self):\n",
        "        print(f\"[FORNECEDOR] ID: {self.id} | Nome: {self.nome} | CNPJ: {self.cnpj}\")\n",
        "\n",
        "\n",
        "# 4. Função para exibir detalhes de uma lista de pessoas (Cliente ou Fornecedor)\n",
        "def exibir_detalhes(pessoas):\n",
        "    print(\"\\n--- DETALHES DE CADASTRO ---\")\n",
        "    for pessoa in pessoas:\n",
        "        pessoa.detalhes_de_cadastro()\n",
        "\n",
        "\n",
        "# Exemplo de uso\n",
        "if __name__ == \"__main__\":\n",
        "    # Criando objetos\n",
        "    cliente1 = Cliente(1, \"Maria Silva\", \"2025-10-01\")\n",
        "    cliente2 = Cliente(2, \"João Oliveira\", \"2025-09-15\")\n",
        "    fornecedor1 = Fornecedor(101, \"ABC Suprimentos\", \"12.345.678/0001-99\")\n",
        "    fornecedor2 = Fornecedor(102, \"Tech Distribuidora\", \"98.765.432/0001-55\")\n",
        "\n",
        "    # Lista de pessoas\n",
        "    lista_pessoas = [cliente1, fornecedor1, cliente2, fornecedor2]\n",
        "\n",
        "    # Chamando a função para exibir detalhes\n",
        "    exibir_detalhes(lista_pessoas)\n"
      ],
      "metadata": {
        "id": "5ldDdG2NrjaW",
        "outputId": "4bc7f476-e786-407c-b9ec-0e3ab89fda3c",
        "colab": {
          "base_uri": "https://localhost:8080/"
        }
      },
      "execution_count": 14,
      "outputs": [
        {
          "output_type": "stream",
          "name": "stdout",
          "text": [
            "\n",
            "--- DETALHES DE CADASTRO ---\n",
            "[CLIENTE] ID: 1 | Nome: Maria Silva | Data de Cadastro: 2025-10-01\n",
            "[FORNECEDOR] ID: 101 | Nome: ABC Suprimentos | CNPJ: 12.345.678/0001-99\n",
            "[CLIENTE] ID: 2 | Nome: João Oliveira | Data de Cadastro: 2025-09-15\n",
            "[FORNECEDOR] ID: 102 | Nome: Tech Distribuidora | CNPJ: 98.765.432/0001-55\n"
          ]
        }
      ]
    }
  ],
  "metadata": {
    "colab": {
      "name": "Damos-lhe as boas-vindas ao Colab",
      "toc_visible": true,
      "provenance": [],
      "include_colab_link": true
    },
    "kernelspec": {
      "display_name": "Python 3",
      "name": "python3"
    }
  },
  "nbformat": 4,
  "nbformat_minor": 0
}