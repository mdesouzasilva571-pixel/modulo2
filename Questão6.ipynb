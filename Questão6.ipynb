{
  "cells": [
    {
      "cell_type": "markdown",
      "metadata": {
        "id": "view-in-github",
        "colab_type": "text"
      },
      "source": [
        "<a href=\"https://colab.research.google.com/github/mdesouzasilva571-pixel/modulo2/blob/main/Quest%C3%A3o6.ipynb\" target=\"_parent\"><img src=\"https://colab.research.google.com/assets/colab-badge.svg\" alt=\"Open In Colab\"/></a>"
      ]
    },
    {
      "cell_type": "code",
      "source": [
        "from abc import ABC, abstractmethod\n",
        "\n",
        "class ContaBacária(ABC):\n",
        "    def __init__(self, saldo_inicial):\n",
        "        self.saldo= saldo_inicial\n",
        "\n",
        "    # metodo concreto\n",
        "    def verificar_saldo(self):\n",
        "        print(f\"Seu saldo é de {self.saldo}\")\n",
        "\n",
        "    @abstractmethod\n",
        "    def sacar(self, valor):\n",
        "        pass\n",
        "\n",
        "   # Classe ContaCorrente que herda de ContaBancaria\n",
        "class ContaCorrente(ContaBacária): # Corrected the class name to ContaBacária\n",
        "    def sacar(self, valor):\n",
        "        if valor > self.saldo:\n",
        "            print(\"Saldo insuficiente para realizar o saque.\")\n",
        "        else:\n",
        "            self.saldo -= valor\n",
        "            print(f\"Saque de R${valor:.2f} realizado.\")\n",
        "\n",
        "# Criando uma lista de objetos ContaCorrente\n",
        "contas = [\n",
        "    ContaCorrente(1000),\n",
        "    ContaCorrente(500),\n",
        "    ContaCorrente(300),\n",
        "]\n",
        "\n",
        "# Iterando sobre a lista de contas, chamando sacar e verificar_saldo\n",
        "for conta in contas:\n",
        "    conta.sacar(200)  # Tentando sacar R$200 de cada conta\n",
        "    conta.verificar_saldo()  # Verificando o saldo após o saque"
      ],
      "metadata": {
        "colab": {
          "base_uri": "https://localhost:8080/"
        },
        "id": "6IWFAmyPjfJC",
        "outputId": "d91342ae-ddab-46a1-dc2b-eb0b715ba176"
      },
      "execution_count": 10,
      "outputs": [
        {
          "output_type": "stream",
          "name": "stdout",
          "text": [
            "Saque de R$200.00 realizado.\n",
            "Seu saldo é de 800\n",
            "Saque de R$200.00 realizado.\n",
            "Seu saldo é de 300\n",
            "Saque de R$200.00 realizado.\n",
            "Seu saldo é de 100\n"
          ]
        }
      ]
    },
    {
      "cell_type": "code",
      "source": [],
      "metadata": {
        "id": "LvzKn_-Fn2I_"
      },
      "execution_count": null,
      "outputs": []
    }
  ],
  "metadata": {
    "colab": {
      "name": "Damos-lhe as boas-vindas ao Colab",
      "toc_visible": true,
      "provenance": [],
      "include_colab_link": true
    },
    "kernelspec": {
      "display_name": "Python 3",
      "name": "python3"
    }
  },
  "nbformat": 4,
  "nbformat_minor": 0
}